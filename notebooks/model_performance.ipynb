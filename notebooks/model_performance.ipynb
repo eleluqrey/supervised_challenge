{
 "cells": [
  {
   "cell_type": "markdown",
   "metadata": {},
   "source": [
    "# Model Performance Transformations\n",
    "\n",
    "Lets practice some basic data transformation for ML performance enhancement"
   ]
  },
  {
   "cell_type": "code",
   "execution_count": 15,
   "metadata": {},
   "outputs": [],
   "source": [
    "# Imports\n",
    "\n",
    "import numpy as np\n",
    "import pandas as pd\n",
    "from sklearn.preprocessing import RobustScaler, StandardScaler\n",
    "from sklearn.preprocessing import OneHotEncoder, OrdinalEncoder\n",
    "from sklearn.model_selection import train_test_split\n",
    "from sklearn.linear_model import LogisticRegression\n",
    "from sklearn.ensemble import RandomForestClassifier\n",
    "from sklearn.metrics import roc_auc_score"
   ]
  },
  {
   "cell_type": "code",
   "execution_count": 16,
   "metadata": {},
   "outputs": [],
   "source": [
    "# Categorical data analyser\n",
    "\n",
    "def cat_var(df, cols):\n",
    "    '''\n",
    "    Return: a Pandas dataframe object with the following columns:\n",
    "        - \"categorical_variable\" => every categorical variable include as an input parameter (string).\n",
    "        - \"number_of_possible_values\" => the amount of unique values that can take a given categorical variable (integer).\n",
    "        - \"values\" => a list with the posible unique values for every categorical variable (list).\n",
    "\n",
    "    Input parameters:\n",
    "        - df -> Pandas dataframe object: a dataframe with categorical variables.\n",
    "        - cols -> list object: a list with the name (string) of every categorical variable to analyse.\n",
    "    '''\n",
    "    cat_list = []\n",
    "    for col in cols:\n",
    "        cat = df[col].unique()\n",
    "        cat_num = len(cat)\n",
    "        cat_dict = {\"categorical_variable\":col,\n",
    "                    \"number_of_possible_values\":cat_num,\n",
    "                    \"values\":cat}\n",
    "        cat_list.append(cat_dict)\n",
    "    df = pd.DataFrame(cat_list).sort_values(by=\"number_of_possible_values\", ascending=False)\n",
    "    return df.reset_index(drop=True)"
   ]
  },
  {
   "cell_type": "markdown",
   "metadata": {},
   "source": [
    "## Scaling\n",
    "\n",
    "Some ML algorithms have problems performing well whenever the data scale differ greatly between features. In those cases scaling the data is your best option.\n",
    "\n",
    "- [RobustScaler](https://scikit-learn.org/stable/modules/generated/sklearn.preprocessing.RobustScaler.html#sklearn.preprocessing.RobustScaler)\n",
    "\n",
    "- [StandardScaler](https://scikit-learn.org/stable/modules/generated/sklearn.preprocessing.StandardScaler.html#sklearn.preprocessing.StandardScaler)\n",
    "\n",
    "Try both options and see what happens with performance (i.e.: AUC).\n",
    "\n",
    "<img src=\"../images/scaling.png\" alt=\"Drawing\" style=\"width: 500px;\"/>"
   ]
  },
  {
   "cell_type": "code",
   "execution_count": 17,
   "metadata": {},
   "outputs": [
    {
     "name": "stdout",
     "output_type": "stream",
     "text": [
      "(145460, 23)\n"
     ]
    },
    {
     "data": {
      "text/html": [
       "<div>\n",
       "<style scoped>\n",
       "    .dataframe tbody tr th:only-of-type {\n",
       "        vertical-align: middle;\n",
       "    }\n",
       "\n",
       "    .dataframe tbody tr th {\n",
       "        vertical-align: top;\n",
       "    }\n",
       "\n",
       "    .dataframe thead th {\n",
       "        text-align: right;\n",
       "    }\n",
       "</style>\n",
       "<table border=\"1\" class=\"dataframe\">\n",
       "  <thead>\n",
       "    <tr style=\"text-align: right;\">\n",
       "      <th></th>\n",
       "      <th>Date</th>\n",
       "      <th>Location</th>\n",
       "      <th>MinTemp</th>\n",
       "      <th>MaxTemp</th>\n",
       "      <th>Rainfall</th>\n",
       "      <th>Evaporation</th>\n",
       "      <th>Sunshine</th>\n",
       "      <th>WindGustDir</th>\n",
       "      <th>WindGustSpeed</th>\n",
       "      <th>WindDir9am</th>\n",
       "      <th>...</th>\n",
       "      <th>Humidity9am</th>\n",
       "      <th>Humidity3pm</th>\n",
       "      <th>Pressure9am</th>\n",
       "      <th>Pressure3pm</th>\n",
       "      <th>Cloud9am</th>\n",
       "      <th>Cloud3pm</th>\n",
       "      <th>Temp9am</th>\n",
       "      <th>Temp3pm</th>\n",
       "      <th>RainToday</th>\n",
       "      <th>RainTomorrow</th>\n",
       "    </tr>\n",
       "  </thead>\n",
       "  <tbody>\n",
       "    <tr>\n",
       "      <th>0</th>\n",
       "      <td>2008-12-01</td>\n",
       "      <td>Albury</td>\n",
       "      <td>13.4</td>\n",
       "      <td>22.9</td>\n",
       "      <td>0.6</td>\n",
       "      <td>NaN</td>\n",
       "      <td>NaN</td>\n",
       "      <td>W</td>\n",
       "      <td>44.0</td>\n",
       "      <td>W</td>\n",
       "      <td>...</td>\n",
       "      <td>71.0</td>\n",
       "      <td>22.0</td>\n",
       "      <td>1007.7</td>\n",
       "      <td>1007.1</td>\n",
       "      <td>8.0</td>\n",
       "      <td>NaN</td>\n",
       "      <td>16.9</td>\n",
       "      <td>21.8</td>\n",
       "      <td>No</td>\n",
       "      <td>No</td>\n",
       "    </tr>\n",
       "    <tr>\n",
       "      <th>1</th>\n",
       "      <td>2008-12-02</td>\n",
       "      <td>Albury</td>\n",
       "      <td>7.4</td>\n",
       "      <td>25.1</td>\n",
       "      <td>0.0</td>\n",
       "      <td>NaN</td>\n",
       "      <td>NaN</td>\n",
       "      <td>WNW</td>\n",
       "      <td>44.0</td>\n",
       "      <td>NNW</td>\n",
       "      <td>...</td>\n",
       "      <td>44.0</td>\n",
       "      <td>25.0</td>\n",
       "      <td>1010.6</td>\n",
       "      <td>1007.8</td>\n",
       "      <td>NaN</td>\n",
       "      <td>NaN</td>\n",
       "      <td>17.2</td>\n",
       "      <td>24.3</td>\n",
       "      <td>No</td>\n",
       "      <td>No</td>\n",
       "    </tr>\n",
       "    <tr>\n",
       "      <th>2</th>\n",
       "      <td>2008-12-03</td>\n",
       "      <td>Albury</td>\n",
       "      <td>12.9</td>\n",
       "      <td>25.7</td>\n",
       "      <td>0.0</td>\n",
       "      <td>NaN</td>\n",
       "      <td>NaN</td>\n",
       "      <td>WSW</td>\n",
       "      <td>46.0</td>\n",
       "      <td>W</td>\n",
       "      <td>...</td>\n",
       "      <td>38.0</td>\n",
       "      <td>30.0</td>\n",
       "      <td>1007.6</td>\n",
       "      <td>1008.7</td>\n",
       "      <td>NaN</td>\n",
       "      <td>2.0</td>\n",
       "      <td>21.0</td>\n",
       "      <td>23.2</td>\n",
       "      <td>No</td>\n",
       "      <td>No</td>\n",
       "    </tr>\n",
       "    <tr>\n",
       "      <th>3</th>\n",
       "      <td>2008-12-04</td>\n",
       "      <td>Albury</td>\n",
       "      <td>9.2</td>\n",
       "      <td>28.0</td>\n",
       "      <td>0.0</td>\n",
       "      <td>NaN</td>\n",
       "      <td>NaN</td>\n",
       "      <td>NE</td>\n",
       "      <td>24.0</td>\n",
       "      <td>SE</td>\n",
       "      <td>...</td>\n",
       "      <td>45.0</td>\n",
       "      <td>16.0</td>\n",
       "      <td>1017.6</td>\n",
       "      <td>1012.8</td>\n",
       "      <td>NaN</td>\n",
       "      <td>NaN</td>\n",
       "      <td>18.1</td>\n",
       "      <td>26.5</td>\n",
       "      <td>No</td>\n",
       "      <td>No</td>\n",
       "    </tr>\n",
       "    <tr>\n",
       "      <th>4</th>\n",
       "      <td>2008-12-05</td>\n",
       "      <td>Albury</td>\n",
       "      <td>17.5</td>\n",
       "      <td>32.3</td>\n",
       "      <td>1.0</td>\n",
       "      <td>NaN</td>\n",
       "      <td>NaN</td>\n",
       "      <td>W</td>\n",
       "      <td>41.0</td>\n",
       "      <td>ENE</td>\n",
       "      <td>...</td>\n",
       "      <td>82.0</td>\n",
       "      <td>33.0</td>\n",
       "      <td>1010.8</td>\n",
       "      <td>1006.0</td>\n",
       "      <td>7.0</td>\n",
       "      <td>8.0</td>\n",
       "      <td>17.8</td>\n",
       "      <td>29.7</td>\n",
       "      <td>No</td>\n",
       "      <td>No</td>\n",
       "    </tr>\n",
       "  </tbody>\n",
       "</table>\n",
       "<p>5 rows × 23 columns</p>\n",
       "</div>"
      ],
      "text/plain": [
       "         Date Location  MinTemp  MaxTemp  Rainfall  Evaporation  Sunshine  \\\n",
       "0  2008-12-01   Albury     13.4     22.9       0.6          NaN       NaN   \n",
       "1  2008-12-02   Albury      7.4     25.1       0.0          NaN       NaN   \n",
       "2  2008-12-03   Albury     12.9     25.7       0.0          NaN       NaN   \n",
       "3  2008-12-04   Albury      9.2     28.0       0.0          NaN       NaN   \n",
       "4  2008-12-05   Albury     17.5     32.3       1.0          NaN       NaN   \n",
       "\n",
       "  WindGustDir  WindGustSpeed WindDir9am  ... Humidity9am  Humidity3pm  \\\n",
       "0           W           44.0          W  ...        71.0         22.0   \n",
       "1         WNW           44.0        NNW  ...        44.0         25.0   \n",
       "2         WSW           46.0          W  ...        38.0         30.0   \n",
       "3          NE           24.0         SE  ...        45.0         16.0   \n",
       "4           W           41.0        ENE  ...        82.0         33.0   \n",
       "\n",
       "   Pressure9am  Pressure3pm  Cloud9am  Cloud3pm  Temp9am  Temp3pm  RainToday  \\\n",
       "0       1007.7       1007.1       8.0       NaN     16.9     21.8         No   \n",
       "1       1010.6       1007.8       NaN       NaN     17.2     24.3         No   \n",
       "2       1007.6       1008.7       NaN       2.0     21.0     23.2         No   \n",
       "3       1017.6       1012.8       NaN       NaN     18.1     26.5         No   \n",
       "4       1010.8       1006.0       7.0       8.0     17.8     29.7         No   \n",
       "\n",
       "   RainTomorrow  \n",
       "0            No  \n",
       "1            No  \n",
       "2            No  \n",
       "3            No  \n",
       "4            No  \n",
       "\n",
       "[5 rows x 23 columns]"
      ]
     },
     "execution_count": 17,
     "metadata": {},
     "output_type": "execute_result"
    }
   ],
   "source": [
    "# Weather dataset (https://www.kaggle.com/jsphyg/weather-dataset-rattle-package)\n",
    "\n",
    "weather = pd.read_csv('../data/weatherAUS.csv')\n",
    "print(weather.shape)\n",
    "weather.head()"
   ]
  },
  {
   "cell_type": "code",
   "execution_count": 18,
   "metadata": {},
   "outputs": [
    {
     "name": "stdout",
     "output_type": "stream",
     "text": [
      "['MinTemp', 'MaxTemp', 'Rainfall', 'WindSpeed9am', 'WindSpeed3pm', 'Humidity9am', 'Humidity3pm', 'Pressure9am', 'Pressure3pm', 'Temp9am', 'Temp3pm', 'RainTomorrow']\n",
      "(1479, 12)\n",
      "           MinTemp      MaxTemp     Rainfall  WindSpeed9am  WindSpeed3pm  \\\n",
      "count  1479.000000  1479.000000  1479.000000   1479.000000   1479.000000   \n",
      "mean     14.368627    30.402299     0.716700     17.613928     17.050710   \n",
      "std       7.432857     7.624058     4.208585      7.887082      6.893016   \n",
      "min      -1.900000    11.300000     0.000000      0.000000      0.000000   \n",
      "25%       8.100000    23.800000     0.000000     11.000000     11.000000   \n",
      "50%      14.900000    31.200000     0.000000     17.000000     17.000000   \n",
      "75%      20.800000    37.100000     0.000000     24.000000     22.000000   \n",
      "max      31.000000    44.400000    83.800000     41.000000     48.000000   \n",
      "\n",
      "       Humidity9am  Humidity3pm  Pressure9am  Pressure3pm      Temp9am  \\\n",
      "count  1479.000000  1479.000000  1479.000000  1479.000000  1479.000000   \n",
      "mean     42.153482    23.794456  1017.130967  1013.321433    20.989926   \n",
      "std      21.704719    16.236320     6.431030     6.467590     7.748379   \n",
      "min       5.000000     3.000000   994.600000   989.200000     5.000000   \n",
      "25%      25.000000    13.000000  1012.300000  1008.500000    14.200000   \n",
      "50%      38.000000    20.000000  1017.200000  1013.200000    21.400000   \n",
      "75%      57.000000    30.000000  1021.900000  1017.900000    27.800000   \n",
      "max     100.000000   100.000000  1033.400000  1029.800000    36.400000   \n",
      "\n",
      "           Temp3pm  \n",
      "count  1479.000000  \n",
      "mean     29.075997  \n",
      "std       7.364791  \n",
      "min       8.500000  \n",
      "25%      22.850000  \n",
      "50%      29.800000  \n",
      "75%      35.500000  \n",
      "max      42.600000  \n"
     ]
    },
    {
     "data": {
      "text/html": [
       "<div>\n",
       "<style scoped>\n",
       "    .dataframe tbody tr th:only-of-type {\n",
       "        vertical-align: middle;\n",
       "    }\n",
       "\n",
       "    .dataframe tbody tr th {\n",
       "        vertical-align: top;\n",
       "    }\n",
       "\n",
       "    .dataframe thead th {\n",
       "        text-align: right;\n",
       "    }\n",
       "</style>\n",
       "<table border=\"1\" class=\"dataframe\">\n",
       "  <thead>\n",
       "    <tr style=\"text-align: right;\">\n",
       "      <th></th>\n",
       "      <th>MinTemp</th>\n",
       "      <th>MaxTemp</th>\n",
       "      <th>Rainfall</th>\n",
       "      <th>WindSpeed9am</th>\n",
       "      <th>WindSpeed3pm</th>\n",
       "      <th>Humidity9am</th>\n",
       "      <th>Humidity3pm</th>\n",
       "      <th>Pressure9am</th>\n",
       "      <th>Pressure3pm</th>\n",
       "      <th>Temp9am</th>\n",
       "      <th>Temp3pm</th>\n",
       "      <th>RainTomorrow</th>\n",
       "    </tr>\n",
       "  </thead>\n",
       "  <tbody>\n",
       "    <tr>\n",
       "      <th>0</th>\n",
       "      <td>19.7</td>\n",
       "      <td>30.0</td>\n",
       "      <td>0.8</td>\n",
       "      <td>30.0</td>\n",
       "      <td>24.0</td>\n",
       "      <td>76.0</td>\n",
       "      <td>54.0</td>\n",
       "      <td>1010.6</td>\n",
       "      <td>1007.5</td>\n",
       "      <td>21.7</td>\n",
       "      <td>28.4</td>\n",
       "      <td>No</td>\n",
       "    </tr>\n",
       "    <tr>\n",
       "      <th>1</th>\n",
       "      <td>21.6</td>\n",
       "      <td>33.1</td>\n",
       "      <td>0.0</td>\n",
       "      <td>22.0</td>\n",
       "      <td>11.0</td>\n",
       "      <td>44.0</td>\n",
       "      <td>33.0</td>\n",
       "      <td>1010.5</td>\n",
       "      <td>1006.5</td>\n",
       "      <td>24.6</td>\n",
       "      <td>31.3</td>\n",
       "      <td>No</td>\n",
       "    </tr>\n",
       "    <tr>\n",
       "      <th>2</th>\n",
       "      <td>21.3</td>\n",
       "      <td>36.1</td>\n",
       "      <td>0.0</td>\n",
       "      <td>24.0</td>\n",
       "      <td>13.0</td>\n",
       "      <td>39.0</td>\n",
       "      <td>27.0</td>\n",
       "      <td>1006.9</td>\n",
       "      <td>1002.7</td>\n",
       "      <td>27.6</td>\n",
       "      <td>34.5</td>\n",
       "      <td>No</td>\n",
       "    </tr>\n",
       "    <tr>\n",
       "      <th>3</th>\n",
       "      <td>22.9</td>\n",
       "      <td>37.7</td>\n",
       "      <td>0.0</td>\n",
       "      <td>28.0</td>\n",
       "      <td>13.0</td>\n",
       "      <td>35.0</td>\n",
       "      <td>22.0</td>\n",
       "      <td>1006.0</td>\n",
       "      <td>1002.1</td>\n",
       "      <td>28.7</td>\n",
       "      <td>35.4</td>\n",
       "      <td>No</td>\n",
       "    </tr>\n",
       "    <tr>\n",
       "      <th>4</th>\n",
       "      <td>24.0</td>\n",
       "      <td>39.0</td>\n",
       "      <td>0.0</td>\n",
       "      <td>20.0</td>\n",
       "      <td>19.0</td>\n",
       "      <td>33.0</td>\n",
       "      <td>21.0</td>\n",
       "      <td>1006.9</td>\n",
       "      <td>1003.5</td>\n",
       "      <td>29.9</td>\n",
       "      <td>37.3</td>\n",
       "      <td>No</td>\n",
       "    </tr>\n",
       "  </tbody>\n",
       "</table>\n",
       "</div>"
      ],
      "text/plain": [
       "   MinTemp  MaxTemp  Rainfall  WindSpeed9am  WindSpeed3pm  Humidity9am  \\\n",
       "0     19.7     30.0       0.8          30.0          24.0         76.0   \n",
       "1     21.6     33.1       0.0          22.0          11.0         44.0   \n",
       "2     21.3     36.1       0.0          24.0          13.0         39.0   \n",
       "3     22.9     37.7       0.0          28.0          13.0         35.0   \n",
       "4     24.0     39.0       0.0          20.0          19.0         33.0   \n",
       "\n",
       "   Humidity3pm  Pressure9am  Pressure3pm  Temp9am  Temp3pm RainTomorrow  \n",
       "0         54.0       1010.6       1007.5     21.7     28.4           No  \n",
       "1         33.0       1010.5       1006.5     24.6     31.3           No  \n",
       "2         27.0       1006.9       1002.7     27.6     34.5           No  \n",
       "3         22.0       1006.0       1002.1     28.7     35.4           No  \n",
       "4         21.0       1006.9       1003.5     29.9     37.3           No  "
      ]
     },
     "execution_count": 18,
     "metadata": {},
     "output_type": "execute_result"
    }
   ],
   "source": [
    "# Uluru weather (numerical features)\n",
    "\n",
    "weather = weather[weather['Location'].isin(['Uluru'])].reset_index(drop=True)\n",
    "weather = weather[weather['RainToday'].isin(['No','Yes'])].reset_index(drop=True)\n",
    "weather = weather[weather['RainTomorrow'].isin(['No','Yes'])]\n",
    "weather = weather[['MinTemp',\n",
    "                   'MaxTemp',\n",
    "                   'Rainfall',\n",
    "                   'WindSpeed9am',\n",
    "                   'WindSpeed3pm',\n",
    "                   'Humidity9am',\n",
    "                   'Humidity3pm',\n",
    "                   'Pressure9am',\n",
    "                   'Pressure3pm',\n",
    "                   'Temp9am',\n",
    "                   'Temp3pm',\n",
    "                   'RainTomorrow']]\n",
    "weather = weather.dropna().reset_index(drop=True)\n",
    "col_weather = list(weather.columns)\n",
    "print(col_weather)\n",
    "print(weather.shape)\n",
    "print(weather.describe())\n",
    "weather.head()"
   ]
  },
  {
   "cell_type": "code",
   "execution_count": 19,
   "metadata": {},
   "outputs": [
    {
     "name": "stdout",
     "output_type": "stream",
     "text": [
      "(1479, 11) (1479,)\n"
     ]
    }
   ],
   "source": [
    "# Features + target\n",
    "\n",
    "X = weather[['MinTemp',\n",
    "          'MaxTemp',\n",
    "          'Rainfall',\n",
    "          'WindSpeed9am',\n",
    "          'WindSpeed3pm',\n",
    "          'Humidity9am',\n",
    "          'Humidity3pm',\n",
    "          'Pressure9am',\n",
    "          'Pressure3pm',\n",
    "          'Temp9am',\n",
    "          'Temp3pm']]\n",
    "y = pd.get_dummies(weather['RainTomorrow'], drop_first=True)['Yes']\n",
    "print(X.shape,y.shape)"
   ]
  },
  {
   "cell_type": "code",
   "execution_count": 20,
   "metadata": {},
   "outputs": [
    {
     "name": "stdout",
     "output_type": "stream",
     "text": [
      "X_train: (1183, 11), X_test: (296, 11), y_train: (1183,), y_test: (296,)\n",
      "X_train: <class 'pandas.core.frame.DataFrame'>, X_test: <class 'pandas.core.frame.DataFrame'>, y_train: <class 'pandas.core.series.Series'>, y_test: <class 'pandas.core.series.Series'>\n"
     ]
    }
   ],
   "source": [
    "# Train + test\n",
    "\n",
    "X_train, X_test, y_train, y_test = train_test_split(X, y, test_size=0.2, random_state=42)\n",
    "print(f\"X_train: {X_train.shape}, X_test: {X_test.shape}, y_train: {y_train.shape}, y_test: {y_test.shape}\")\n",
    "print(f\"X_train: {type(X_train)}, X_test: {type(X_test)}, y_train: {type(y_train)}, y_test: {type(y_test)}\")"
   ]
  },
  {
   "cell_type": "code",
   "execution_count": 21,
   "metadata": {},
   "outputs": [
    {
     "name": "stdout",
     "output_type": "stream",
     "text": [
      "[[-0.86146698 -1.29121338 -0.17296414 ...  1.55579759 -1.06564358\n",
      "  -1.34723461]\n",
      " [-1.82158264 -1.40917657 -0.17296414 ...  1.1574357  -1.46620883\n",
      "  -1.42860035]\n",
      " [ 1.74842487  1.6447595  -0.17296414 ... -1.75367044  1.76415606\n",
      "   1.44632245]\n",
      " ...\n",
      " [-1.10487658 -0.1640095  -0.17296414 ...  0.43731997 -0.62631396\n",
      "  -0.23523617]\n",
      " [-1.28067241 -1.26499933 -0.17296414 ...  1.61708404 -1.37575861\n",
      "  -1.25230791]\n",
      " [-1.3753317  -1.98588553 -0.12822943 ...  1.46386792 -1.6341878\n",
      "  -1.98459957]]\n",
      "[[ 1.33931577  1.51516306 -0.16832717 ... -0.80863753  1.70381971\n",
      "   1.56699679]\n",
      " [ 1.49783264  1.42288694 -0.09969791 ... -1.17880996  1.48503234\n",
      "   1.3755458 ]\n",
      " [-0.58930608  0.05192758 -0.16832717 ...  0.02827404 -0.36822541\n",
      "   0.1584645 ]\n",
      " ...\n",
      " [ 1.12795995 -0.22490075 -0.16832717 ... -0.03610377  0.3138764\n",
      "  -0.3064879 ]\n",
      " [ 0.22969772 -0.89719813 -0.16832717 ...  0.06046295  0.01786995\n",
      "  -1.1953675 ]\n",
      " [ 1.39215473  1.17242321 -0.16832717 ... -1.50069902  1.49790219\n",
      "   0.69179226]]\n"
     ]
    }
   ],
   "source": [
    "# Scaling\n",
    "\n",
    "scaler = StandardScaler()\n",
    "\n",
    "X_train = scaler.fit_transform(X_train)\n",
    "print(X_train)\n",
    "\n",
    "X_test = scaler.fit_transform(X_test)\n",
    "print(X_test)"
   ]
  },
  {
   "cell_type": "code",
   "execution_count": 22,
   "metadata": {},
   "outputs": [
    {
     "name": "stdout",
     "output_type": "stream",
     "text": [
      "[[-0.53543307 -0.78518519  0.         ...  1.07291667 -0.63272727\n",
      "  -0.82490272]\n",
      " [-1.09448819 -0.85185185  0.         ...  0.80208333 -0.85818182\n",
      "  -0.87159533]\n",
      " [ 0.98425197  0.87407407  0.         ... -1.17708333  0.96\n",
      "   0.77821012]\n",
      " ...\n",
      " [-0.67716535 -0.14814815  0.         ...  0.3125     -0.38545455\n",
      "  -0.18677043]\n",
      " [-0.77952756 -0.77037037  0.         ...  1.11458333 -0.80727273\n",
      "  -0.77042802]\n",
      " [-0.83464567 -1.17777778  0.04473471 ...  1.01041667 -0.95272727\n",
      "  -1.19066148]]\n",
      "[[ 0.73092369  0.87733888  0.         ... -0.60744986  1.01768173\n",
      "   0.90086207]\n",
      " [ 0.82730924  0.81912682  0.06862926 ... -0.87106017  0.88408644\n",
      "   0.78017241]\n",
      " [-0.44176707 -0.04573805  0.         ... -0.01146132 -0.2475442\n",
      "   0.01293103]\n",
      " ...\n",
      " [ 0.60240964 -0.22037422  0.         ... -0.05730659  0.16895874\n",
      "  -0.28017241]\n",
      " [ 0.0562249  -0.64449064  0.         ...  0.01146132 -0.01178782\n",
      "  -0.84051724]\n",
      " [ 0.76305221  0.66112266  0.         ... -1.10028653  0.89194499\n",
      "   0.34913793]]\n"
     ]
    }
   ],
   "source": [
    "scaler = RobustScaler()\n",
    "\n",
    "X_train = scaler.fit_transform(X_train)\n",
    "print(X_train)\n",
    "\n",
    "X_test = scaler.fit_transform(X_test)\n",
    "print(X_test)"
   ]
  },
  {
   "cell_type": "code",
   "execution_count": 23,
   "metadata": {},
   "outputs": [
    {
     "name": "stdout",
     "output_type": "stream",
     "text": [
      "Linear model AUC is: 0.6542846285388563\n"
     ]
    }
   ],
   "source": [
    "# Linear model\n",
    "\n",
    "linear_model = LogisticRegression(max_iter=1000)\n",
    "linear_param = linear_model.fit(X_train, y_train)\n",
    "linear_pred = linear_model.predict(X_test)\n",
    "linear_auc = roc_auc_score(y_test, linear_pred)\n",
    "print(f\"Linear model AUC is: {linear_auc}\")"
   ]
  },
  {
   "cell_type": "code",
   "execution_count": 24,
   "metadata": {},
   "outputs": [
    {
     "name": "stdout",
     "output_type": "stream",
     "text": [
      "Linear model AUC is: 0.6207486224586737\n"
     ]
    }
   ],
   "source": [
    "# Ensemble model\n",
    "\n",
    "ensemble_model = RandomForestClassifier()\n",
    "ensemble_param = ensemble_model.fit(X_train, y_train)\n",
    "ensemble_pred = ensemble_model.predict(X_test)\n",
    "ensemble_auc = roc_auc_score(y_test, ensemble_pred)\n",
    "print(f\"Linear model AUC is: {ensemble_auc}\")"
   ]
  },
  {
   "cell_type": "markdown",
   "metadata": {},
   "source": [
    "---"
   ]
  },
  {
   "cell_type": "markdown",
   "metadata": {},
   "source": [
    "## Enconding\n",
    "\n",
    "ML algorithms do not support categorical data. Therefore you need to find a way to transform categorical data into numerical. You must compare the results using both techniques: __One Hot Encoding__ or __Label Encoding__\n",
    "\n",
    "- [OneHotEncoder](https://scikit-learn.org/stable/modules/generated/sklearn.preprocessing.OneHotEncoder.html#sklearn.preprocessing.OneHotEncoder)\n",
    "\n",
    "- [LabelEncoder](https://scikit-learn.org/stable/modules/generated/sklearn.preprocessing.LabelEncoder.html#sklearn.preprocessing.LabelEncoder)\n",
    "\n",
    "<img src=\"../images/encoding.png\" alt=\"Drawing\" style=\"width: 500px;\"/>"
   ]
  },
  {
   "cell_type": "code",
   "execution_count": 25,
   "metadata": {},
   "outputs": [
    {
     "name": "stdout",
     "output_type": "stream",
     "text": [
      "(8124, 23)\n"
     ]
    },
    {
     "data": {
      "text/html": [
       "<div>\n",
       "<style scoped>\n",
       "    .dataframe tbody tr th:only-of-type {\n",
       "        vertical-align: middle;\n",
       "    }\n",
       "\n",
       "    .dataframe tbody tr th {\n",
       "        vertical-align: top;\n",
       "    }\n",
       "\n",
       "    .dataframe thead th {\n",
       "        text-align: right;\n",
       "    }\n",
       "</style>\n",
       "<table border=\"1\" class=\"dataframe\">\n",
       "  <thead>\n",
       "    <tr style=\"text-align: right;\">\n",
       "      <th></th>\n",
       "      <th>class</th>\n",
       "      <th>cap-shape</th>\n",
       "      <th>cap-surface</th>\n",
       "      <th>cap-color</th>\n",
       "      <th>bruises</th>\n",
       "      <th>odor</th>\n",
       "      <th>gill-attachment</th>\n",
       "      <th>gill-spacing</th>\n",
       "      <th>gill-size</th>\n",
       "      <th>gill-color</th>\n",
       "      <th>...</th>\n",
       "      <th>stalk-surface-below-ring</th>\n",
       "      <th>stalk-color-above-ring</th>\n",
       "      <th>stalk-color-below-ring</th>\n",
       "      <th>veil-type</th>\n",
       "      <th>veil-color</th>\n",
       "      <th>ring-number</th>\n",
       "      <th>ring-type</th>\n",
       "      <th>spore-print-color</th>\n",
       "      <th>population</th>\n",
       "      <th>habitat</th>\n",
       "    </tr>\n",
       "  </thead>\n",
       "  <tbody>\n",
       "    <tr>\n",
       "      <th>0</th>\n",
       "      <td>p</td>\n",
       "      <td>x</td>\n",
       "      <td>s</td>\n",
       "      <td>n</td>\n",
       "      <td>t</td>\n",
       "      <td>p</td>\n",
       "      <td>f</td>\n",
       "      <td>c</td>\n",
       "      <td>n</td>\n",
       "      <td>k</td>\n",
       "      <td>...</td>\n",
       "      <td>s</td>\n",
       "      <td>w</td>\n",
       "      <td>w</td>\n",
       "      <td>p</td>\n",
       "      <td>w</td>\n",
       "      <td>o</td>\n",
       "      <td>p</td>\n",
       "      <td>k</td>\n",
       "      <td>s</td>\n",
       "      <td>u</td>\n",
       "    </tr>\n",
       "    <tr>\n",
       "      <th>1</th>\n",
       "      <td>e</td>\n",
       "      <td>x</td>\n",
       "      <td>s</td>\n",
       "      <td>y</td>\n",
       "      <td>t</td>\n",
       "      <td>a</td>\n",
       "      <td>f</td>\n",
       "      <td>c</td>\n",
       "      <td>b</td>\n",
       "      <td>k</td>\n",
       "      <td>...</td>\n",
       "      <td>s</td>\n",
       "      <td>w</td>\n",
       "      <td>w</td>\n",
       "      <td>p</td>\n",
       "      <td>w</td>\n",
       "      <td>o</td>\n",
       "      <td>p</td>\n",
       "      <td>n</td>\n",
       "      <td>n</td>\n",
       "      <td>g</td>\n",
       "    </tr>\n",
       "    <tr>\n",
       "      <th>2</th>\n",
       "      <td>e</td>\n",
       "      <td>b</td>\n",
       "      <td>s</td>\n",
       "      <td>w</td>\n",
       "      <td>t</td>\n",
       "      <td>l</td>\n",
       "      <td>f</td>\n",
       "      <td>c</td>\n",
       "      <td>b</td>\n",
       "      <td>n</td>\n",
       "      <td>...</td>\n",
       "      <td>s</td>\n",
       "      <td>w</td>\n",
       "      <td>w</td>\n",
       "      <td>p</td>\n",
       "      <td>w</td>\n",
       "      <td>o</td>\n",
       "      <td>p</td>\n",
       "      <td>n</td>\n",
       "      <td>n</td>\n",
       "      <td>m</td>\n",
       "    </tr>\n",
       "    <tr>\n",
       "      <th>3</th>\n",
       "      <td>p</td>\n",
       "      <td>x</td>\n",
       "      <td>y</td>\n",
       "      <td>w</td>\n",
       "      <td>t</td>\n",
       "      <td>p</td>\n",
       "      <td>f</td>\n",
       "      <td>c</td>\n",
       "      <td>n</td>\n",
       "      <td>n</td>\n",
       "      <td>...</td>\n",
       "      <td>s</td>\n",
       "      <td>w</td>\n",
       "      <td>w</td>\n",
       "      <td>p</td>\n",
       "      <td>w</td>\n",
       "      <td>o</td>\n",
       "      <td>p</td>\n",
       "      <td>k</td>\n",
       "      <td>s</td>\n",
       "      <td>u</td>\n",
       "    </tr>\n",
       "    <tr>\n",
       "      <th>4</th>\n",
       "      <td>e</td>\n",
       "      <td>x</td>\n",
       "      <td>s</td>\n",
       "      <td>g</td>\n",
       "      <td>f</td>\n",
       "      <td>n</td>\n",
       "      <td>f</td>\n",
       "      <td>w</td>\n",
       "      <td>b</td>\n",
       "      <td>k</td>\n",
       "      <td>...</td>\n",
       "      <td>s</td>\n",
       "      <td>w</td>\n",
       "      <td>w</td>\n",
       "      <td>p</td>\n",
       "      <td>w</td>\n",
       "      <td>o</td>\n",
       "      <td>e</td>\n",
       "      <td>n</td>\n",
       "      <td>a</td>\n",
       "      <td>g</td>\n",
       "    </tr>\n",
       "  </tbody>\n",
       "</table>\n",
       "<p>5 rows × 23 columns</p>\n",
       "</div>"
      ],
      "text/plain": [
       "  class cap-shape cap-surface cap-color bruises odor gill-attachment  \\\n",
       "0     p         x           s         n       t    p               f   \n",
       "1     e         x           s         y       t    a               f   \n",
       "2     e         b           s         w       t    l               f   \n",
       "3     p         x           y         w       t    p               f   \n",
       "4     e         x           s         g       f    n               f   \n",
       "\n",
       "  gill-spacing gill-size gill-color  ... stalk-surface-below-ring  \\\n",
       "0            c         n          k  ...                        s   \n",
       "1            c         b          k  ...                        s   \n",
       "2            c         b          n  ...                        s   \n",
       "3            c         n          n  ...                        s   \n",
       "4            w         b          k  ...                        s   \n",
       "\n",
       "  stalk-color-above-ring stalk-color-below-ring veil-type veil-color  \\\n",
       "0                      w                      w         p          w   \n",
       "1                      w                      w         p          w   \n",
       "2                      w                      w         p          w   \n",
       "3                      w                      w         p          w   \n",
       "4                      w                      w         p          w   \n",
       "\n",
       "  ring-number ring-type spore-print-color population habitat  \n",
       "0           o         p                 k          s       u  \n",
       "1           o         p                 n          n       g  \n",
       "2           o         p                 n          n       m  \n",
       "3           o         p                 k          s       u  \n",
       "4           o         e                 n          a       g  \n",
       "\n",
       "[5 rows x 23 columns]"
      ]
     },
     "execution_count": 25,
     "metadata": {},
     "output_type": "execute_result"
    }
   ],
   "source": [
    "# Mushrooms dataset (https://www.kaggle.com/uciml/mushroom-classification)\n",
    "\n",
    "mushrooms = pd.read_csv('../data/mushrooms.csv')\n",
    "col_mushrooms = list(mushrooms.columns)\n",
    "print(mushrooms.shape)\n",
    "mushrooms.head()"
   ]
  },
  {
   "cell_type": "code",
   "execution_count": null,
   "metadata": {
    "scrolled": false
   },
   "outputs": [],
   "source": [
    "# Features analysis\n",
    "\n",
    "cat_mushrooms = cat_var(mushrooms, col_mushrooms)\n",
    "cat_mushrooms"
   ]
  },
  {
   "cell_type": "code",
   "execution_count": null,
   "metadata": {},
   "outputs": [],
   "source": [
    "# Features + target (encoding). IMPORTANT: you may pick any of the 2-labeled features as you target (choose wisely!!!)\n",
    "\n"
   ]
  },
  {
   "cell_type": "code",
   "execution_count": 26,
   "metadata": {},
   "outputs": [],
   "source": [
    "#Label encoding\n",
    "\n",
    "encoding = {'odor': {'p': 0, 'a': 1, 'l': 2, 'n': 3, 'f': 4, 'c': 5, 'y': 6, 's': 7, 'm': 8},\n",
    "            'cap-color': {'n': 0, 'y': 1, 'w': 2, 'g': 3, 'e': 4, 'p': 5, 'b': 6, 'u': 7, 'c': 8, 'r': 9}}\n",
    "\n",
    "def ordinal_encoding(feature, value):\n",
    "    if feature in encoding and value in encoding[feature]:\n",
    "        return encoding[feature][value]\n",
    "    else:\n",
    "        return None"
   ]
  },
  {
   "cell_type": "code",
   "execution_count": 27,
   "metadata": {},
   "outputs": [
    {
     "data": {
      "text/plain": [
       "7"
      ]
     },
     "execution_count": 27,
     "metadata": {},
     "output_type": "execute_result"
    }
   ],
   "source": [
    "odor_encoding = ordinal_encoding('odor', 's')\n",
    "odor_encoding"
   ]
  },
  {
   "cell_type": "code",
   "execution_count": 28,
   "metadata": {},
   "outputs": [
    {
     "data": {
      "text/plain": [
       "2"
      ]
     },
     "execution_count": 28,
     "metadata": {},
     "output_type": "execute_result"
    }
   ],
   "source": [
    "cap_color_encoding = ordinal_encoding('cap-color', 'w')\n",
    "cap_color_encoding"
   ]
  },
  {
   "cell_type": "code",
   "execution_count": null,
   "metadata": {},
   "outputs": [],
   "source": [
    "#One-hot encoding"
   ]
  },
  {
   "cell_type": "code",
   "execution_count": 36,
   "metadata": {},
   "outputs": [
    {
     "name": "stdout",
     "output_type": "stream",
     "text": [
      "      class_e  class_p  cap-shape_b  cap-shape_c  cap-shape_f  cap-shape_k  \\\n",
      "0       False     True        False        False        False        False   \n",
      "1        True    False        False        False        False        False   \n",
      "2        True    False         True        False        False        False   \n",
      "3       False     True        False        False        False        False   \n",
      "4        True    False        False        False        False        False   \n",
      "...       ...      ...          ...          ...          ...          ...   \n",
      "8119     True    False        False        False        False         True   \n",
      "8120     True    False        False        False        False        False   \n",
      "8121     True    False        False        False         True        False   \n",
      "8122    False     True        False        False        False         True   \n",
      "8123     True    False        False        False        False        False   \n",
      "\n",
      "      cap-shape_s  cap-shape_x  cap-surface_f  cap-surface_g  ...  \\\n",
      "0           False         True          False          False  ...   \n",
      "1           False         True          False          False  ...   \n",
      "2           False        False          False          False  ...   \n",
      "3           False         True          False          False  ...   \n",
      "4           False         True          False          False  ...   \n",
      "...           ...          ...            ...            ...  ...   \n",
      "8119        False        False          False          False  ...   \n",
      "8120        False         True          False          False  ...   \n",
      "8121        False        False          False          False  ...   \n",
      "8122        False        False          False          False  ...   \n",
      "8123        False         True          False          False  ...   \n",
      "\n",
      "      population_s  population_v  population_y  habitat_d  habitat_g  \\\n",
      "0             True         False         False      False      False   \n",
      "1            False         False         False      False       True   \n",
      "2            False         False         False      False      False   \n",
      "3             True         False         False      False      False   \n",
      "4            False         False         False      False       True   \n",
      "...            ...           ...           ...        ...        ...   \n",
      "8119         False         False         False      False      False   \n",
      "8120         False          True         False      False      False   \n",
      "8121         False         False         False      False      False   \n",
      "8122         False          True         False      False      False   \n",
      "8123         False         False         False      False      False   \n",
      "\n",
      "      habitat_l  habitat_m  habitat_p  habitat_u  habitat_w  \n",
      "0         False      False      False       True      False  \n",
      "1         False      False      False      False      False  \n",
      "2         False       True      False      False      False  \n",
      "3         False      False      False       True      False  \n",
      "4         False      False      False      False      False  \n",
      "...         ...        ...        ...        ...        ...  \n",
      "8119       True      False      False      False      False  \n",
      "8120       True      False      False      False      False  \n",
      "8121       True      False      False      False      False  \n",
      "8122       True      False      False      False      False  \n",
      "8123       True      False      False      False      False  \n",
      "\n",
      "[8124 rows x 119 columns]\n"
     ]
    }
   ],
   "source": [
    "# Obtén las columnas categóricas en el conjunto de datos\n",
    "cat_columns = mushrooms.select_dtypes(include=['object']).columns\n",
    "\n",
    "# Aplica One-Hot Encoding a las columnas categóricas\n",
    "mushrooms_encoded = pd.get_dummies(mushrooms, columns=cat_columns)\n",
    "\n",
    "# Muestra el conjunto de datos después de aplicar One-Hot Encoding\n",
    "print(mushrooms_encoded)"
   ]
  },
  {
   "cell_type": "code",
   "execution_count": 37,
   "metadata": {},
   "outputs": [
    {
     "name": "stdout",
     "output_type": "stream",
     "text": [
      "X_train: (1183, 11), X_test: (296, 11), y_train: (1183,), y_test: (296,)\n",
      "X_train: <class 'pandas.core.frame.DataFrame'>, X_test: <class 'pandas.core.frame.DataFrame'>, y_train: <class 'pandas.core.series.Series'>, y_test: <class 'pandas.core.series.Series'>\n"
     ]
    }
   ],
   "source": [
    "# Train + test\n",
    "X_train, X_test, y_train, y_test = train_test_split(X, y, test_size=0.2, random_state=42)\n",
    "print(f\"X_train: {X_train.shape}, X_test: {X_test.shape}, y_train: {y_train.shape}, y_test: {y_test.shape}\")\n",
    "print(f\"X_train: {type(X_train)}, X_test: {type(X_test)}, y_train: {type(y_train)}, y_test: {type(y_test)}\")\n"
   ]
  },
  {
   "cell_type": "code",
   "execution_count": null,
   "metadata": {},
   "outputs": [],
   "source": [
    "# Scaling\n",
    "\n",
    "\n",
    "\n",
    "\n",
    "\n",
    "\n",
    "\n",
    "\n"
   ]
  },
  {
   "cell_type": "code",
   "execution_count": 33,
   "metadata": {},
   "outputs": [
    {
     "name": "stdout",
     "output_type": "stream",
     "text": [
      "Linear model AUC is: 0.6542846285388563\n"
     ]
    }
   ],
   "source": [
    "# Linear model\n",
    "\n",
    "linear_model = LogisticRegression(max_iter=1000)\n",
    "linear_param = linear_model.fit(X_train, y_train)\n",
    "linear_pred = linear_model.predict(X_test)\n",
    "linear_auc = roc_auc_score(y_test, linear_pred)\n",
    "print(f\"Linear model AUC is: {linear_auc}\")"
   ]
  },
  {
   "cell_type": "code",
   "execution_count": 34,
   "metadata": {},
   "outputs": [
    {
     "name": "stdout",
     "output_type": "stream",
     "text": [
      "Linear model AUC is: 0.6470644119323581\n"
     ]
    }
   ],
   "source": [
    "# Ensemble model\n",
    "\n",
    "ensemble_model = RandomForestClassifier()\n",
    "ensemble_param = ensemble_model.fit(X_train, y_train)\n",
    "ensemble_pred = ensemble_model.predict(X_test)\n",
    "ensemble_auc = roc_auc_score(y_test, ensemble_pred)\n",
    "print(f\"Linear model AUC is: {ensemble_auc}\")"
   ]
  },
  {
   "cell_type": "markdown",
   "metadata": {},
   "source": [
    "---"
   ]
  },
  {
   "cell_type": "markdown",
   "metadata": {},
   "source": [
    "## Bonus\n",
    "\n",
    "Now that you can grasp the potential of pre-processing your data...what would you do about the following dataset?\n",
    "\n",
    "<img src=\"../images/bonus.jpg\" alt=\"Drawing\" style=\"width: 500px;\"/>"
   ]
  },
  {
   "cell_type": "code",
   "execution_count": null,
   "metadata": {},
   "outputs": [],
   "source": [
    "# Netflix dataset (https://www.kaggle.com/shivamb/netflix-shows)\n",
    "\n",
    "netflix = pd.read_csv('../data/netflix_titles.csv')\n",
    "col_netflix = list(netflix.columns)\n",
    "print(netflix.shape)\n",
    "netflix.head()"
   ]
  },
  {
   "cell_type": "code",
   "execution_count": null,
   "metadata": {},
   "outputs": [],
   "source": [
    "# ML workflow -> ¿what would you do?\n",
    "\n",
    "\n",
    "\n",
    "\n",
    "\n",
    "\n",
    "\n",
    "\n"
   ]
  },
  {
   "cell_type": "markdown",
   "metadata": {},
   "source": [
    "---"
   ]
  }
 ],
 "metadata": {
  "kernelspec": {
   "display_name": "Python (sklearn_)",
   "language": "python",
   "name": "sklearn_"
  },
  "language_info": {
   "codemirror_mode": {
    "name": "ipython",
    "version": 3
   },
   "file_extension": ".py",
   "mimetype": "text/x-python",
   "name": "python",
   "nbconvert_exporter": "python",
   "pygments_lexer": "ipython3",
   "version": "3.12.1"
  }
 },
 "nbformat": 4,
 "nbformat_minor": 2
}
